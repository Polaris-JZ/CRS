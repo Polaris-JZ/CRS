{
 "cells": [
  {
   "cell_type": "code",
   "execution_count": null,
   "metadata": {},
   "outputs": [
    {
     "ename": "",
     "evalue": "",
     "output_type": "error",
     "traceback": [
      "\u001b[1;31mJupyter cannot be started. Error attempting to locate Jupyter: Running cells with 'test_env (Python 3.13.1)' requires the notebook package.\n",
      "\u001b[1;31mRun the following command to install 'jupyter and notebook' into the Python environment. \n",
      "\u001b[1;31mCommand: 'python -m pip install jupyter notebook -U\n",
      "\u001b[1;31mor\n",
      "\u001b[1;31mconda install jupyter notebook -U'\n",
      "\u001b[1;31mClick <a href='https://aka.ms/installJupyterForVSCode'>here</a> for more info."
     ]
    }
   ],
   "source": [
    "import json\n",
    "\n",
    "data_path = '/data/zhaoj9/KG_repro/CRSLab/data/dataset/inspired/nltk/test_data.json'\n",
    "\n",
    "with open(data_path, 'r') as f:\n",
    "    data = json.load(f)\n",
    "\n",
    "for item in data:\n",
    "    conv = item['dialog']\n",
    "    for turn in conv:\n",
    "        if len(turn['movies']) > 1:\n",
    "            print(\"inspired dataset exist data with multi gt\")\n",
    "            break\n"
   ]
  },
  {
   "cell_type": "code",
   "execution_count": null,
   "metadata": {},
   "outputs": [],
   "source": [
    "import json\n",
    "\n",
    "data_path = '/data/zhaoj9/KG_repro/CRSLab/data/dataset/redial/nltk/test_data.json'\n",
    "\n",
    "with open(data_path, 'r') as f:\n",
    "    data = json.load(f)\n",
    "\n",
    "for item in data:\n",
    "    conv = item['dialog']\n",
    "    for turn in conv:\n",
    "        if len(turn['movies']) > 1:\n",
    "            print(\"redial dataset exist data with multi gt\")\n",
    "            break\n"
   ]
  },
  {
   "cell_type": "code",
   "execution_count": null,
   "metadata": {},
   "outputs": [],
   "source": [
    "import json\n",
    "\n",
    "data_path = '/data/zhaoj9/KG_repro/CRSLab/data/dataset/tgredial/pkuseg/test_data.json'\n",
    "\n",
    "with open(data_path, 'r') as f:\n",
    "    data = json.load(f)\n",
    "\n",
    "for item in data:\n",
    "    conv = item['messages']\n",
    "    for turn in conv:\n",
    "        if len(turn['movie']) > 1:\n",
    "            print(\"tg-redial dataset exist data with multi gt\")\n",
    "            break\n"
   ]
  }
 ],
 "metadata": {
  "kernelspec": {
   "display_name": "torch2.1",
   "language": "python",
   "name": "python3"
  },
  "language_info": {
   "name": "python",
   "version": "3.9.7"
  }
 },
 "nbformat": 4,
 "nbformat_minor": 2
}
