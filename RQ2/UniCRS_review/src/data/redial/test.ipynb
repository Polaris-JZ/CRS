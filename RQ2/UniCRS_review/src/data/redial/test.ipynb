{
 "cells": [
  {
   "cell_type": "code",
   "execution_count": 13,
   "metadata": {},
   "outputs": [],
   "source": [
    "import pickle\n",
    "import json\n",
    "\n",
    "train_review_path = \"/projects/prjs1158/KG/redail/MESE_review/DATA/dataset/redial/nltk/train_conv_idx_to_review_info.pkl\"\n",
    "valid_review_path = \"/projects/prjs1158/KG/redail/MESE_review/DATA/dataset/redial/nltk/valid_conv_idx_to_review_info.pkl\"\n",
    "test_review_path = \"/projects/prjs1158/KG/redail/MESE_review/DATA/dataset/redial/nltk/test_conv_idx_to_review_info.pkl\"\n",
    "\n",
    "train_review_data = pickle.load(open(train_review_path, \"rb\"))\n",
    "valid_review_data = pickle.load(open(valid_review_path, \"rb\"))\n",
    "test_review_data = pickle.load(open(test_review_path, \"rb\"))\n",
    "\n",
    "entity2id_path = \"/projects/prjs1158/KG/redail/MESE_review/DATA/dataset/redial/nltk/entity2id.json\"\n",
    "token2id_path = \"/projects/prjs1158/KG/redail/MESE_review/DATA/dataset/redial/nltk/token2id.json\"\n",
    "entity2id = json.load(open(entity2id_path, 'r'))\n",
    "token2id = json.load(open(token2id_path, 'r'))\n",
    "id2entity = {v: k for k, v in entity2id.items()}\n",
    "id2token = {v: k for k, v in token2id.items()}\n",
    "\n",
    "entity_name_to_review = {}\n",
    "for review_data in [train_review_data, valid_review_data, test_review_data]:\n",
    "    for key in review_data.keys():\n",
    "        for cnt, entity_id in enumerate(review_data[key]['selected_entityIds']):\n",
    "            review = review_data[key]['selected_infoListListInt'][cnt]\n",
    "            # transform review to text\n",
    "            new_review = [id2token[item] for item in review]\n",
    "            new_review = \" \".join(new_review)\n",
    "            entity_name = id2entity[int(entity_id)]\n",
    "            entity_name_to_review[entity_name] = new_review"
   ]
  },
  {
   "cell_type": "code",
   "execution_count": 14,
   "metadata": {},
   "outputs": [
    {
     "name": "stdout",
     "output_type": "stream",
     "text": [
      "<http://dbpedia.org/resource/Ghostbusters>\n",
      "A junior woman agent is all the FBI cares to spare for this case\n"
     ]
    }
   ],
   "source": [
    "for key in entity_name_to_review.keys():\n",
    "    print(key)\n",
    "    print(entity_name_to_review[key])\n",
    "    break"
   ]
  },
  {
   "cell_type": "code",
   "execution_count": 15,
   "metadata": {},
   "outputs": [
    {
     "name": "stderr",
     "output_type": "stream",
     "text": [
      "1342it [00:00, 4865.61it/s]\n"
     ]
    }
   ],
   "source": [
    "ori_test_data_path = './test_data_dbpedia.jsonl'\n",
    "new_test_data_path = './test_data_dbpedia_review.jsonl'\n",
    "\n",
    "from tqdm import tqdm\n",
    "with open(ori_test_data_path, 'r') as f, open(new_test_data_path, 'w', encoding='utf-8') as fout:\n",
    "    for line in tqdm(f):\n",
    "        dialog = json.loads(line)\n",
    "        messages = dialog['messages']\n",
    "        for message in messages:\n",
    "            # print(message['text'])\n",
    "            if message['entity']:\n",
    "                for entity_name in message['entity']:\n",
    "                    if entity_name in entity_name_to_review.keys():\n",
    "                        review = entity_name_to_review[entity_name]\n",
    "                        message['text'] = message['text'] + \" Review: \" + review\n",
    "            # print(message['text'])\n",
    "            if message['movie']:\n",
    "                for entity_name in message['movie']:\n",
    "                    if entity_name in entity_name_to_review.keys():\n",
    "                        review = entity_name_to_review[entity_name]\n",
    "                        # print(review)\n",
    "                        message['text'] = message['text'] + \" Review: \" + review\n",
    "        \n",
    "        # write to new file\n",
    "        fout.write(json.dumps(dialog, ensure_ascii=False) + '\\n')\n",
    "\n"
   ]
  },
  {
   "cell_type": "code",
   "execution_count": 16,
   "metadata": {},
   "outputs": [
    {
     "name": "stderr",
     "output_type": "stream",
     "text": [
      "1000it [00:00, 3912.36it/s]\n"
     ]
    }
   ],
   "source": [
    "ori_test_data_path = './valid_data_dbpedia.jsonl'\n",
    "new_test_data_path = './valid_data_dbpedia_review.jsonl'\n",
    "\n",
    "from tqdm import tqdm\n",
    "with open(ori_test_data_path, 'r') as f, open(new_test_data_path, 'w', encoding='utf-8') as fout:\n",
    "    for line in tqdm(f):\n",
    "        dialog = json.loads(line)\n",
    "        messages = dialog['messages']\n",
    "        for message in messages:\n",
    "            # print(message['text'])\n",
    "            if message['entity']:\n",
    "                for entity_name in message['entity']:\n",
    "                    if entity_name in entity_name_to_review.keys():\n",
    "                        review = entity_name_to_review[entity_name]\n",
    "                        message['text'] = message['text'] + \" Review: \" + review\n",
    "            # print(message['text'])\n",
    "            if message['movie']:\n",
    "                for entity_name in message['movie']:\n",
    "                    if entity_name in entity_name_to_review.keys():\n",
    "                        review = entity_name_to_review[entity_name]\n",
    "                        # print(review)\n",
    "                        message['text'] = message['text'] + \" Review: \" + review\n",
    "        \n",
    "        # write to new file\n",
    "        fout.write(json.dumps(dialog, ensure_ascii=False) + '\\n')\n"
   ]
  },
  {
   "cell_type": "code",
   "execution_count": 17,
   "metadata": {},
   "outputs": [
    {
     "name": "stderr",
     "output_type": "stream",
     "text": [
      "9006it [00:01, 6612.37it/s]\n"
     ]
    }
   ],
   "source": [
    "ori_test_data_path = './train_data_dbpedia.jsonl'\n",
    "new_test_data_path = './train_data_dbpedia_review.jsonl'\n",
    "\n",
    "from tqdm import tqdm\n",
    "with open(ori_test_data_path, 'r') as f, open(new_test_data_path, 'w', encoding='utf-8') as fout:\n",
    "    for line in tqdm(f):\n",
    "        dialog = json.loads(line)\n",
    "        messages = dialog['messages']\n",
    "        for message in messages:\n",
    "            # print(message['text'])\n",
    "            if message['entity']:\n",
    "                for entity_name in message['entity']:\n",
    "                    if entity_name in entity_name_to_review.keys():\n",
    "                        review = entity_name_to_review[entity_name]\n",
    "                        message['text'] = message['text'] + \" Review: \" + review\n",
    "            # print(message['text'])\n",
    "            if message['movie']:\n",
    "                for entity_name in message['movie']:\n",
    "                    if entity_name in entity_name_to_review.keys():\n",
    "                        review = entity_name_to_review[entity_name]\n",
    "                        # print(review)\n",
    "                        message['text'] = message['text'] + \" Review: \" + review\n",
    "        \n",
    "        # write to new file\n",
    "        fout.write(json.dumps(dialog, ensure_ascii=False) + '\\n')\n"
   ]
  }
 ],
 "metadata": {
  "kernelspec": {
   "display_name": "llama",
   "language": "python",
   "name": "python3"
  },
  "language_info": {
   "codemirror_mode": {
    "name": "ipython",
    "version": 3
   },
   "file_extension": ".py",
   "mimetype": "text/x-python",
   "name": "python",
   "nbconvert_exporter": "python",
   "pygments_lexer": "ipython3",
   "version": "3.9.19"
  }
 },
 "nbformat": 4,
 "nbformat_minor": 2
}
